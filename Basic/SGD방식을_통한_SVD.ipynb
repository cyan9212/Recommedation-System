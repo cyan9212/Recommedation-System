{
  "nbformat": 4,
  "nbformat_minor": 0,
  "metadata": {
    "colab": {
      "name": "SGD방식을 통한 SVD.ipynb",
      "provenance": []
    },
    "kernelspec": {
      "name": "python3",
      "display_name": "Python 3"
    },
    "language_info": {
      "name": "python"
    }
  },
  "cells": [
    {
      "cell_type": "markdown",
      "source": [
        "# 확률적 경사 하강법(SGD)을 이용한 행렬 분해"
      ],
      "metadata": {
        "id": "CEG9DLHoss-j"
      }
    },
    {
      "cell_type": "code",
      "execution_count": 1,
      "metadata": {
        "id": "e4adoqawjX8F"
      },
      "outputs": [],
      "source": [
        "import numpy as np"
      ]
    },
    {
      "cell_type": "code",
      "source": [
        "# 원본 행렬 R생성, 분해 행렬 P와 Q 초기화, 잠재 요인 차원 K는 3으로 설정\n",
        "\n",
        "R = np.array([[4 ,np.NaN, np.NaN, 2, np.NaN],\n",
        "              [np.NaN, 5, np.NaN, 3, 1],\n",
        "              [np.NaN, np.NaN, 3, 4, 4],\n",
        "              [5, 2, 1, 2, np.NaN]])\n",
        "\n",
        "num_users, num_items = R.shape\n",
        "\n",
        "K = 3"
      ],
      "metadata": {
        "id": "hymoAvPUjZMz"
      },
      "execution_count": 26,
      "outputs": []
    },
    {
      "cell_type": "code",
      "source": [
        "# P와 Q 행렬의 크기를 지정하고 정규 분포를 가진 임의의 값으로 입력\n",
        "\n",
        "np.random.seed(1)\n",
        "P = np.random.normal(scale=1./K, size=(num_users, K))\n",
        "Q = np.random.normal(scale=1./K, size=(num_items, K))\n",
        "P,Q"
      ],
      "metadata": {
        "colab": {
          "base_uri": "https://localhost:8080/"
        },
        "id": "f9Kj5dVZkHfb",
        "outputId": "4621acc9-8e3f-4241-e188-833d67c5e033"
      },
      "execution_count": 27,
      "outputs": [
        {
          "output_type": "execute_result",
          "data": {
            "text/plain": [
              "(array([[ 0.54144845, -0.2039188 , -0.17605725],\n",
              "        [-0.35765621,  0.28846921, -0.76717957],\n",
              "        [ 0.58160392, -0.25373563,  0.10634637],\n",
              "        [-0.08312346,  0.48736931, -0.68671357]]),\n",
              " array([[-0.1074724 , -0.12801812,  0.37792315],\n",
              "        [-0.36663042, -0.05747607, -0.29261947],\n",
              "        [ 0.01407125,  0.19427174, -0.36687306],\n",
              "        [ 0.38157457,  0.30053024,  0.16749811],\n",
              "        [ 0.30028532, -0.22790929, -0.04096341]]))"
            ]
          },
          "metadata": {},
          "execution_count": 27
        }
      ]
    },
    {
      "cell_type": "code",
      "source": [
        "from sklearn.metrics import mean_squared_error\n",
        "\n",
        "def get_rmse(R, P, Q, non_zeros):\n",
        "  error = 0\n",
        "  # 두개의 분해된 행렬 P와 Q.T의 내적으로 예측행렬 R 생성\n",
        "  full_pred_matrix = np.dot(P,Q.T)\n",
        "\n",
        "  # 실제 R 행렬에서 널이 아닌 값의 위치 인덱스를 추출해 실제 R 행렬과 예측 행렬의 RMSE 추출\n",
        "  x_non_zero_idx = [non_zero[0] for non_zero in non_zeros]\n",
        "  y_non_zero_idx = [non_zero[1] for non_zero in non_zeros]\n",
        "  \n",
        "  R_non_zeros = R[x_non_zero_idx, y_non_zero_idx]\n",
        "  full_pred_matrix_non_zeros = full_pred_matrix[x_non_zero_idx, y_non_zero_idx]\n",
        "  \n",
        "  mse = mean_squared_error(R_non_zeros, full_pred_matrix_non_zeros)\n",
        "\n",
        "  rmse = np.sqrt(mse)\n",
        "  \n",
        "  return rmse\n",
        "  "
      ],
      "metadata": {
        "id": "UxUdT0V4k4Pz"
      },
      "execution_count": 28,
      "outputs": []
    },
    {
      "cell_type": "code",
      "source": [
        "# R > 0인 행 위치, 열 위치, 값을 non_zeros 리스트에 저장\n",
        "non_zeros = [(i, j, R[i,j]) for i in range(num_users) for j in range(num_items) if R[i, j] > 0]\n",
        "\n",
        "# SGD 반복 업데이트 횟수\n",
        "steps = 1000\n",
        "\n",
        "# 학습률\n",
        "learning_rate = 0.01\n",
        "\n",
        "# R2 regulation 계수\n",
        "r_lambda = 0.01\n",
        "\n",
        "# SGD 기법으로 P와 Q 매트릭스를 계속 업데이트\n",
        "for step in range(steps):\n",
        "  for i, j , r in non_zeros:\n",
        "    # 실제 값과 예측값 차이인 오류값을 구한다.\n",
        "    eij = r - np.dot(P[i,:], Q[j,:].T)\n",
        "    # Regularization을 반영한 SGD 업데이트 공식 적용\n",
        "    P[i,:] = P[i,:] + learning_rate * (eij * Q[j,:] - r_lambda*P[i,:])\n",
        "    Q[j,:] = Q[j,:] + learning_rate * (eij * P[i,:] - r_lambda*Q[j,:])\n",
        "  rmse = get_rmse(R, P, Q, non_zeros)\n",
        "  if (step % 50) == 0:\n",
        "    print('### iteration step: ', step,'rmse: ',rmse)"
      ],
      "metadata": {
        "colab": {
          "base_uri": "https://localhost:8080/"
        },
        "id": "-I8ixzuOmlos",
        "outputId": "51c4c4e7-11f9-4446-f520-65b89d0541ec"
      },
      "execution_count": 29,
      "outputs": [
        {
          "output_type": "stream",
          "name": "stdout",
          "text": [
            "### iteration step:  0 rmse:  3.2388050277987723\n",
            "### iteration step:  50 rmse:  0.4876723101369647\n",
            "### iteration step:  100 rmse:  0.15643403848192458\n",
            "### iteration step:  150 rmse:  0.07455141311978064\n",
            "### iteration step:  200 rmse:  0.043252267985793146\n",
            "### iteration step:  250 rmse:  0.029248328780879226\n",
            "### iteration step:  300 rmse:  0.022621116143829507\n",
            "### iteration step:  350 rmse:  0.019493636196525232\n",
            "### iteration step:  400 rmse:  0.018022719092132773\n",
            "### iteration step:  450 rmse:  0.01731968595344283\n",
            "### iteration step:  500 rmse:  0.016973657887570985\n",
            "### iteration step:  550 rmse:  0.01679680459589558\n",
            "### iteration step:  600 rmse:  0.016701322901884634\n",
            "### iteration step:  650 rmse:  0.016644736912476574\n",
            "### iteration step:  700 rmse:  0.016605910068210012\n",
            "### iteration step:  750 rmse:  0.01657420047570488\n",
            "### iteration step:  800 rmse:  0.01654431582921612\n",
            "### iteration step:  850 rmse:  0.016513751774735037\n",
            "### iteration step:  900 rmse:  0.01648146573819507\n",
            "### iteration step:  950 rmse:  0.01644717168347911\n"
          ]
        }
      ]
    },
    {
      "cell_type": "code",
      "source": [
        "pred_matrix = np.dot(P, Q.T)\n",
        "print('예측행렬:\\n', np.round(pred_matrix, 3))"
      ],
      "metadata": {
        "colab": {
          "base_uri": "https://localhost:8080/"
        },
        "id": "ZSmnK2G6pg1c",
        "outputId": "b3c798b8-6c93-4d10-8ded-13f9f29cc5dd"
      },
      "execution_count": 30,
      "outputs": [
        {
          "output_type": "stream",
          "name": "stdout",
          "text": [
            "예측행렬:\n",
            " [[3.991 0.897 1.306 2.002 1.663]\n",
            " [6.696 4.978 0.979 2.981 1.003]\n",
            " [6.677 0.391 2.987 3.977 3.986]\n",
            " [4.968 2.005 1.006 2.017 1.14 ]]\n"
          ]
        }
      ]
    },
    {
      "cell_type": "markdown",
      "source": [
        "### 예측행렬이 원본 행렬 R과 비교해 NaN이 아닌 값은 큰 차이가 나지 않으며,  \n",
        "### NaN인 값은 새로운 예측값으로 채워진것을 확인할 수 있다."
      ],
      "metadata": {
        "id": "WIjCZNkesUxV"
      }
    }
  ]
}